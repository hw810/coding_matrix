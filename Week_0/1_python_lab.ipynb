{
 "cells": [
  {
   "cell_type": "code",
   "execution_count": 17,
   "metadata": {
    "collapsed": false
   },
   "outputs": [
    {
     "name": "stdout",
     "output_type": "stream",
     "text": [
      "  File \"coursera_submit.py\", line 270\r\n",
      "    print(next(res_itr), end='')\r\n",
      "                            ^\r\n",
      "SyntaxError: invalid syntax\r\n"
     ]
    }
   ],
   "source": [
    "!python coursera_submit.py python_lab.py"
   ]
  },
  {
   "cell_type": "markdown",
   "metadata": {},
   "source": [
    "##  1 Use Python to find the number of minutes in a week.\n"
   ]
  },
  {
   "cell_type": "code",
   "execution_count": 8,
   "metadata": {
    "collapsed": false
   },
   "outputs": [
    {
     "data": {
      "text/plain": [
       "10080"
      ]
     },
     "execution_count": 8,
     "metadata": {},
     "output_type": "execute_result"
    }
   ],
   "source": [
    "60*24*7"
   ]
  },
  {
   "cell_type": "markdown",
   "metadata": {},
   "source": [
    "## 2 Use Python to find the remainder of 2304811 divided by 47 without using the modulo operator %. (Hint: Use //.)"
   ]
  },
  {
   "cell_type": "code",
   "execution_count": 14,
   "metadata": {
    "collapsed": false
   },
   "outputs": [
    {
     "data": {
      "text/plain": [
       "25"
      ]
     },
     "execution_count": 14,
     "metadata": {},
     "output_type": "execute_result"
    }
   ],
   "source": [
    "2304811 - (2304811//47)*47 \n",
    "2304811 % 47"
   ]
  },
  {
   "cell_type": "markdown",
   "metadata": {},
   "source": [
    "## 3 Enter a Boolean expression to test whether the sum of 673 and 909 is divisible by 3."
   ]
  },
  {
   "cell_type": "code",
   "execution_count": 18,
   "metadata": {
    "collapsed": false
   },
   "outputs": [
    {
     "data": {
      "text/plain": [
       "False"
      ]
     },
     "execution_count": 18,
     "metadata": {},
     "output_type": "execute_result"
    }
   ],
   "source": [
    "(673 + 900)%3 == 0"
   ]
  },
  {
   "cell_type": "markdown",
   "metadata": {},
   "source": [
    "## 4 Assign the value -9 to x and 1/2 to y. Predict the value of the following expression, then enter it to check your prediction:\n",
    "   2**(y+1/2) if x+10<0 else 2**(y-1/2)"
   ]
  },
  {
   "cell_type": "code",
   "execution_count": 19,
   "metadata": {
    "collapsed": false
   },
   "outputs": [
    {
     "data": {
      "text/plain": [
       "1"
      ]
     },
     "execution_count": 19,
     "metadata": {},
     "output_type": "execute_result"
    }
   ],
   "source": [
    "x = -9\n",
    "y = 1/2\n",
    "2**(y+1/2) if x+10<0 else 2**(y-1/2)"
   ]
  },
  {
   "cell_type": "markdown",
   "metadata": {},
   "source": [
    "## 5 write a comprehension over {1,2,3,4,5} whose value is the set consisting of the squres of the first five positive integers"
   ]
  },
  {
   "cell_type": "code",
   "execution_count": 3,
   "metadata": {
    "collapsed": false
   },
   "outputs": [
    {
     "data": {
      "text/plain": [
       "{1, 4, 9, 16, 25}"
      ]
     },
     "execution_count": 3,
     "metadata": {},
     "output_type": "execute_result"
    }
   ],
   "source": [
    "{x**2 for x in range(1,6)}"
   ]
  },
  {
   "cell_type": "markdown",
   "metadata": {},
   "source": [
    "## 6 Write a comprehension over {0, 1, 2, 3, 4} whose value is the set consisting of the first five powers of two, starting with 2 0"
   ]
  },
  {
   "cell_type": "code",
   "execution_count": 4,
   "metadata": {
    "collapsed": false
   },
   "outputs": [
    {
     "data": {
      "text/plain": [
       "{1, 2, 4, 8, 16}"
      ]
     },
     "execution_count": 4,
     "metadata": {},
     "output_type": "execute_result"
    }
   ],
   "source": [
    "{ 2**x for x in {0,1,2,3,4} }"
   ]
  },
  {
   "cell_type": "markdown",
   "metadata": {},
   "source": [
    "## 7 The value of the previous comprehension, {x*y for x in {1,2,3} for y in {2,3,4}} is a seven-element set. Replace {1,2,3} and {2,3,4} with two other three-element sets so that the value becomes a nine-element set."
   ]
  },
  {
   "cell_type": "code",
   "execution_count": 11,
   "metadata": {
    "collapsed": false
   },
   "outputs": [
    {
     "data": {
      "text/plain": [
       "{35, 42, 49, 55, 65, 66, 77, 78, 91}"
      ]
     },
     "execution_count": 11,
     "metadata": {},
     "output_type": "execute_result"
    }
   ],
   "source": [
    "{x*y for x in {5, 6, 7} for y in {7, 11, 13}}"
   ]
  },
  {
   "cell_type": "markdown",
   "metadata": {},
   "source": [
    "## 8 Replace {1,2,3} and {2,3,4} in the previous comprehension with two disjoint (i.e. non-overlapping) three-element sets so that the value becomes a five-element set."
   ]
  },
  {
   "cell_type": "code",
   "execution_count": 16,
   "metadata": {
    "collapsed": false
   },
   "outputs": [
    {
     "data": {
      "text/plain": [
       "{10, 20, 40, 80, 160}"
      ]
     },
     "execution_count": 16,
     "metadata": {},
     "output_type": "execute_result"
    }
   ],
   "source": [
    "{x*y for x in {2, 4, 8} for y in {5, 10, 20}}"
   ]
  },
  {
   "cell_type": "markdown",
   "metadata": {},
   "source": [
    "## 9 Assume that S and T are assigned sets. Without using the intersection operator &, write a compre-hension over S whose value is the intersection of S and T. Hint: Use a membership test in a filter at the end of the comprehension. Try out your comprehension with S = {1,2,3,4} and T = {3,4,5,6}."
   ]
  },
  {
   "cell_type": "code",
   "execution_count": 18,
   "metadata": {
    "collapsed": false
   },
   "outputs": [
    {
     "data": {
      "text/plain": [
       "{3, 4}"
      ]
     },
     "execution_count": 18,
     "metadata": {},
     "output_type": "execute_result"
    }
   ],
   "source": [
    "{x for x in {1,2,3,4} if x in {3,4,5,6}}"
   ]
  },
  {
   "cell_type": "code",
   "execution_count": 1,
   "metadata": {
    "collapsed": false
   },
   "outputs": [
    {
     "name": "stdout",
     "output_type": "stream",
     "text": [
      "Overwriting python_lab.py\n"
     ]
    }
   ],
   "source": [
    "%%writefile python_lab.py\n",
    "# version code ef5291f09f60+\n",
    "coursera = 1\n",
    "# Please fill out this stencil and submit using the provided submission script.\n",
    "\n",
    "\n",
    "\n",
    "\n",
    "\n",
    "## 1: (Task 1) Minutes in a Week\n",
    "minutes_in_week = 60*24*7\n",
    "\n",
    "\n",
    "\n",
    "## 2: (Task 2) Remainder\n",
    "#For this task, your expression must use //\n",
    "remainder_without_mod = 2304811 - (2304811//47)*47\n",
    "\n",
    "\n",
    "\n",
    "## 3: (Task 3) Divisibility\n",
    "divisible_by_3 = (673 + 900)%3 == 0\n",
    "\n",
    "\n",
    "\n",
    "## 4: (Task 4) Conditional Expression\n",
    "x = -9\n",
    "y = 1/2\n",
    "expression_val = 2**(y+1/2) if x+10<0 else 2**(y-1/2)\n",
    "\n",
    "\n",
    "\n",
    "## 5: (Task 5) Squares Set Comprehension\n",
    "first_five_squares = { x**2 for x in {1,2,3,4,5} }\n",
    "\n",
    "\n",
    "\n",
    "## 6: (Task 6) Powers-of-2 Set Comprehension\n",
    "first_five_pows_two = { 2**x for x in {0,1,2,3,4} }\n",
    "\n",
    "\n",
    "\n",
    "## 7: (Task 7) Double comprehension evaluating to nine-element set\n",
    "# Assign three-element sets to X1 and Y1 so that\n",
    "# {x*y for x in X1 for y in Y1} evaluates to a nine-element set.\n",
    "\n",
    "X1 = { 5, 6, 7 }\n",
    "Y1 = { 7, 11, 13 }\n",
    "\n",
    "\n",
    "\n",
    "## 8: (Task 8) Double comprehension evaluating to five-element set\n",
    "# Assign disjoint three-element sets to X1 and Y1 so that\n",
    "# {x*y for x in X1 for y in Y1} evaluates to a five-element set.\n",
    "\n",
    "X2 = { 2, 4, 8 }\n",
    "Y2 = { 5, 10, 20 }\n",
    "\n",
    "\n",
    "\n",
    "## 9: (Task 9) Set intersection as a comprehension\n",
    "S = {1, 2, 3, 4}\n",
    "T = {3, 4, 5, 6}\n",
    "# Replace { ... } with a one-line set comprehension that evaluates to the intersection of S and T\n",
    "S_intersect_T = { {x for x in S if x in T} }\n",
    "\n",
    "\n",
    "\n",
    "## 10: (Task 10) Average\n",
    "list_of_numbers = [20, 10, 15, 75]\n",
    "# Replace ... with a one-line expression that evaluates to the average of list_of_numbers.\n",
    "# Your expression should refer to the variable list_of_numbers, and should work\n",
    "# for a list of any length greater than zero.\n",
    "list_average = ... \n",
    "\n",
    "\n",
    "\n",
    "## 11: (Task 11) Cartesian-product comprehension\n",
    "# Replace ... with a double list comprehension over ['A','B','C'] and [1,2,3]\n",
    "cartesian_product = ...\n",
    "\n",
    "\n",
    "\n",
    "## 12: (Task 12) Sum of numbers in list of list of numbers\n",
    "LofL = [[.25, .75, .1], [-1, 0], [4, 4, 4, 4]]\n",
    "# Replace ... with a one-line expression of the form sum([sum(...) ... ]) that\n",
    "# includes a comprehension and evaluates to the sum of all numbers in all the lists.\n",
    "LofL_sum = ...\n",
    "\n",
    "\n",
    "\n",
    "## 13: (Task 13) Three-element tuples summing to zero\n",
    "S = {-4, -2, 1, 2, 5, 0}\n",
    "# Replace [ ... ] with a one-line list comprehension in which S appears\n",
    "zero_sum_list = [ ... ] \n",
    "\n",
    "\n",
    "\n",
    "## 14: (Task 14) Nontrivial three-element tuples summing to zero\n",
    "S = {-4, -2, 1, 2, 5, 0}\n",
    "# Replace [ ... ] with a one-line list comprehension in which S appears\n",
    "exclude_zero_list = [ ... ]\n",
    "\n",
    "\n",
    "\n",
    "## 15: (Task 15) One nontrivial three-element tuple summing to zero\n",
    "S = {-4, -2, 1, 2, 5, 0}\n",
    "# Replace ... with a one-line expression that uses a list comprehension in which S appears\n",
    "first_of_tuples_list = ...\n",
    "\n",
    "\n",
    "\n",
    "## 16: (Task 16) List and set differ\n",
    "# Assign to example_L a list such that len(example_L) != len(list(set(example_L)))\n",
    "example_L = [...]\n",
    "\n",
    "\n",
    "\n",
    "## 17: (Task 17) Odd numbers\n",
    "# Replace {...} with a one-line set comprehension over a range of the form range(n)\n",
    "odd_num_list_range = {...}\n",
    "\n",
    "\n",
    "\n",
    "## 18: (Task 18) Using range and zip\n",
    "# In the line below, replace ... with an expression that does not include a comprehension.\n",
    "# Instead, it should use zip and range.\n",
    "# Note: zip() does not return a list. It returns an 'iterator of tuples'\n",
    "range_and_zip = ...\n",
    "\n",
    "\n",
    "\n",
    "## 19: (Task 19) Using zip to find elementwise sums\n",
    "A = [10, 25, 40]\n",
    "B = [1, 15, 20]\n",
    "# Replace [...] with a one-line comprehension that uses zip together with the variables A and B.\n",
    "# The comprehension should evaluate to a list whose ith element is the ith element of\n",
    "# A plus the ith element of B.\n",
    "list_sum_zip = [...]\n",
    "\n",
    "\n",
    "\n",
    "## 20: (Task 20) Extracting the value corresponding to key k from each dictionary in a list\n",
    "dlist = [{'James':'Sean', 'director':'Terence'}, {'James':'Roger', 'director':'Lewis'}, {'James':'Pierce', 'director':'Roger'}]\n",
    "k = 'James'\n",
    "# Replace [...] with a one-line comprehension that uses dlist and k\n",
    "# and that evaluates to ['Sean','Roger','Pierce']\n",
    "value_list = [...]\n",
    "\n",
    "\n",
    "\n",
    "## 21: (Task 21) Extracting the value corresponding to k when it exists\n",
    "dlist = [{'Bilbo':'Ian','Frodo':'Elijah'},{'Bilbo':'Martin','Thorin':'Richard'}]\n",
    "k = 'Bilbo'\n",
    "#Replace [...] with a one-line comprehension \n",
    "value_list_modified_1 = [...] # <-- Use the same expression here\n",
    "k = 'Frodo'\n",
    "value_list_modified_2 = [...] # <-- as you do here\n",
    "\n",
    "\n",
    "\n",
    "## 22: (Task 22) A dictionary mapping integers to their squares\n",
    "# Replace {...} with a one-line dictionary comprehension\n",
    "square_dict = {...}\n",
    "\n",
    "\n",
    "\n",
    "## 23: (Task 23) Making the identity function\n",
    "D = {'red','white','blue'}\n",
    "# Replace {...} with a one-line dictionary comprehension\n",
    "identity_dict = {...}\n",
    "\n",
    "\n",
    "\n",
    "## 24: (Task 24) Mapping integers to their representation over a given base\n",
    "base = 10\n",
    "digits = set(range(base))\n",
    "# Replace { ... } with a one-line dictionary comprehension\n",
    "# Your comprehension should use the variables 'base' and 'digits' so it will work correctly if these\n",
    "# are assigned different values (e.g. base = 2 and digits = {0,1})\n",
    "representation_dict = { ... }\n",
    "\n",
    "\n",
    "\n",
    "## 25: (Task 25) A dictionary mapping names to salaries\n",
    "id2salary = {0:1000.0, 1:1200.50, 2:990}\n",
    "names = ['Larry', 'Curly', 'Moe']\n",
    "# Replace { ... } with a one-line dictionary comprehension that uses id2salary and names.\n",
    "listdict2dict = { ... }\n",
    "\n",
    "\n",
    "\n",
    "## 26: (Task 26) Procedure nextInts\n",
    "# Complete the procedure definition by replacing [ ... ] with a one-line list comprehension\n",
    "def nextInts(L): return [ ... ]\n",
    "\n",
    "\n",
    "\n",
    "## 27: (Task 27) Procedure cubes\n",
    "# Complete the procedure definition by replacing [ ... ] with a one-line list comprehension\n",
    "def cubes(L): return [ ... ] \n",
    "\n",
    "\n",
    "\n",
    "## 28: (Task 28) Procedure dict2list\n",
    "# Input: a dictionary dct and a list keylist consisting of the keys of dct\n",
    "# Output: the list L such that L[i] is the value associated in dct with keylist[i]\n",
    "# Example: dict2list({'a':'A', 'b':'B', 'c':'C'},['b','c','a']) should equal ['B','C','A']\n",
    "# Complete the procedure definition by replacing [ ... ] with a one-line list comprehension\n",
    "def dict2list(dct, keylist): return [ ... ]\n",
    "\n",
    "\n",
    "\n",
    "## 29: (Task 29) Procedure list2dict\n",
    "# Input: a list L and a list keylist of the same length\n",
    "# Output: the dictionary that maps keylist[i] to L[i] for i=0,1,...len(L)-1\n",
    "# Example: list2dict(['A','B','C'],['a','b','c']) should equal {'a':'A', 'b':'B', 'c':'C'}\n",
    "# Complete the procedure definition by replacing { ... } with a one-line dictionary comprehension\n",
    "def list2dict(L, keylist): return { ... }\n",
    "\n"
   ]
  }
 ],
 "metadata": {
  "kernelspec": {
   "display_name": "Python 2",
   "language": "python",
   "name": "python2"
  },
  "language_info": {
   "codemirror_mode": {
    "name": "ipython",
    "version": 2
   },
   "file_extension": ".py",
   "mimetype": "text/x-python",
   "name": "python",
   "nbconvert_exporter": "python",
   "pygments_lexer": "ipython2",
   "version": "2.7.9"
  }
 },
 "nbformat": 4,
 "nbformat_minor": 0
}
